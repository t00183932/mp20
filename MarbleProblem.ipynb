{
 "cells": [
  {
   "cell_type": "code",
   "execution_count": 34,
   "metadata": {
    "collapsed": false
   },
   "outputs": [],
   "source": [
    "import random\n",
    "\n",
    "iterns = 100000\n",
    "num_blue = 4\n",
    "num_red = 8\n",
    "total_marbles = 12\n",
    "blue_count = 0\n",
    "if random.random()<num_blue/total_marbles: \n",
    "    if random.random(num_blue -1<total_marbles - 1):\n",
    "        blue_count +=1\n",
    "        \n",
    "        print(blue_count.iterns)"
   ]
  },
  {
   "cell_type": "code",
   "execution_count": 35,
   "metadata": {
    "collapsed": false
   },
   "outputs": [
    {
     "ename": "TypeError",
     "evalue": "random() takes no arguments (1 given)",
     "output_type": "error",
     "traceback": [
      "\u001b[1;31m---------------------------------------------------------------------------\u001b[0m",
      "\u001b[1;31mTypeError\u001b[0m                                 Traceback (most recent call last)",
      "\u001b[1;32m<ipython-input-35-3a8173b5ada2>\u001b[0m in \u001b[0;36m<module>\u001b[1;34m()\u001b[0m\n\u001b[0;32m      5\u001b[0m \u001b[0mblue_count\u001b[0m \u001b[1;33m=\u001b[0m \u001b[1;36m0\u001b[0m\u001b[1;33m\u001b[0m\u001b[0m\n\u001b[0;32m      6\u001b[0m \u001b[1;32mif\u001b[0m \u001b[0mrandom\u001b[0m\u001b[1;33m.\u001b[0m\u001b[0mrandom\u001b[0m\u001b[1;33m(\u001b[0m\u001b[1;33m)\u001b[0m\u001b[1;33m<\u001b[0m\u001b[0mnum_blue\u001b[0m\u001b[1;33m/\u001b[0m\u001b[0mtotal_marbles\u001b[0m\u001b[1;33m:\u001b[0m\u001b[1;33m\u001b[0m\u001b[0m\n\u001b[1;32m----> 7\u001b[1;33m     \u001b[1;32mif\u001b[0m \u001b[0mrandom\u001b[0m\u001b[1;33m.\u001b[0m\u001b[0mrandom\u001b[0m\u001b[1;33m(\u001b[0m\u001b[0mnum_blue\u001b[0m \u001b[1;33m-\u001b[0m\u001b[1;36m1\u001b[0m\u001b[1;33m<\u001b[0m\u001b[0mtotal_marbles\u001b[0m \u001b[1;33m-\u001b[0m \u001b[1;36m1\u001b[0m\u001b[1;33m)\u001b[0m\u001b[1;33m:\u001b[0m\u001b[1;33m\u001b[0m\u001b[0m\n\u001b[0m\u001b[0;32m      8\u001b[0m         \u001b[0mblue_count\u001b[0m \u001b[1;33m+=\u001b[0m\u001b[1;36m1\u001b[0m\u001b[1;33m\u001b[0m\u001b[0m\n\u001b[0;32m      9\u001b[0m \u001b[1;33m\u001b[0m\u001b[0m\n",
      "\u001b[1;31mTypeError\u001b[0m: random() takes no arguments (1 given)"
     ]
    }
   ],
   "source": [
    "iterns = 100000\n",
    "num_blue = 4\n",
    "num_red = 8\n",
    "total_marbles = 12\n",
    "blue_count = 0\n",
    "if random.random()<num_blue/total_marbles: \n",
    "    if random.random(num_blue -1<total_marbles - 1):\n",
    "        blue_count +=1\n",
    "        \n",
    "print(blue_count.iterns)"
   ]
  },
  {
   "cell_type": "code",
   "execution_count": 36,
   "metadata": {
    "collapsed": false
   },
   "outputs": [
    {
     "ename": "SyntaxError",
     "evalue": "invalid syntax (<ipython-input-36-04bd622616f2>, line 7)",
     "output_type": "error",
     "traceback": [
      "\u001b[1;36m  File \u001b[1;32m\"<ipython-input-36-04bd622616f2>\"\u001b[1;36m, line \u001b[1;32m7\u001b[0m\n\u001b[1;33m    if random.random() num_blue -1<total_marbles - 1:\u001b[0m\n\u001b[1;37m                              ^\u001b[0m\n\u001b[1;31mSyntaxError\u001b[0m\u001b[1;31m:\u001b[0m invalid syntax\n"
     ]
    }
   ],
   "source": [
    "iterns = 100000\n",
    "num_blue = 4\n",
    "num_red = 8\n",
    "total_marbles = 12\n",
    "blue_count = 0\n",
    "if random.random()<num_blue/total_marbles: \n",
    "    if random.random() num_blue -1<total_marbles - 1:\n",
    "        blue_count +=1\n",
    "        \n",
    "print(blue_count.iterns)"
   ]
  },
  {
   "cell_type": "code",
   "execution_count": 37,
   "metadata": {
    "collapsed": false
   },
   "outputs": [
    {
     "ename": "AttributeError",
     "evalue": "'int' object has no attribute 'iterns'",
     "output_type": "error",
     "traceback": [
      "\u001b[1;31m---------------------------------------------------------------------------\u001b[0m",
      "\u001b[1;31mAttributeError\u001b[0m                            Traceback (most recent call last)",
      "\u001b[1;32m<ipython-input-37-453ee6848e6b>\u001b[0m in \u001b[0;36m<module>\u001b[1;34m()\u001b[0m\n\u001b[0;32m      8\u001b[0m         \u001b[0mblue_count\u001b[0m \u001b[1;33m+=\u001b[0m\u001b[1;36m1\u001b[0m\u001b[1;33m\u001b[0m\u001b[0m\n\u001b[0;32m      9\u001b[0m \u001b[1;33m\u001b[0m\u001b[0m\n\u001b[1;32m---> 10\u001b[1;33m \u001b[0mprint\u001b[0m\u001b[1;33m(\u001b[0m\u001b[0mblue_count\u001b[0m\u001b[1;33m.\u001b[0m\u001b[0miterns\u001b[0m\u001b[1;33m)\u001b[0m\u001b[1;33m\u001b[0m\u001b[0m\n\u001b[0m",
      "\u001b[1;31mAttributeError\u001b[0m: 'int' object has no attribute 'iterns'"
     ]
    }
   ],
   "source": [
    "iterns = 100000\n",
    "num_blue = 4\n",
    "num_red = 8\n",
    "total_marbles = 12\n",
    "blue_count = 0\n",
    "if random.random() < num_blue / total_marbles: \n",
    "    if random.random() < num_blue - 1 / total_marbles - 1:\n",
    "        blue_count +=1\n",
    "        \n",
    "print(blue_count.iterns)"
   ]
  },
  {
   "cell_type": "code",
   "execution_count": 38,
   "metadata": {
    "collapsed": false
   },
   "outputs": [
    {
     "ename": "AttributeError",
     "evalue": "'int' object has no attribute 'iterns'",
     "output_type": "error",
     "traceback": [
      "\u001b[1;31m---------------------------------------------------------------------------\u001b[0m",
      "\u001b[1;31mAttributeError\u001b[0m                            Traceback (most recent call last)",
      "\u001b[1;32m<ipython-input-38-48d987a475e6>\u001b[0m in \u001b[0;36m<module>\u001b[1;34m()\u001b[0m\n\u001b[0;32m      8\u001b[0m         \u001b[0mblue_count\u001b[0m \u001b[1;33m+=\u001b[0m\u001b[1;36m1\u001b[0m\u001b[1;33m\u001b[0m\u001b[0m\n\u001b[0;32m      9\u001b[0m \u001b[1;33m\u001b[0m\u001b[0m\n\u001b[1;32m---> 10\u001b[1;33m \u001b[0mprint\u001b[0m\u001b[1;33m(\u001b[0m\u001b[0mblue_count\u001b[0m\u001b[1;33m.\u001b[0m\u001b[0miterns\u001b[0m\u001b[1;33m)\u001b[0m\u001b[1;33m\u001b[0m\u001b[0m\n\u001b[0m",
      "\u001b[1;31mAttributeError\u001b[0m: 'int' object has no attribute 'iterns'"
     ]
    }
   ],
   "source": [
    "iterns = 100000\n",
    "num_blue = 4\n",
    "num_red = 8\n",
    "total_marbles = 12\n",
    "blue_count = 0\n",
    "if random.random() < num_blue / total_marbles: \n",
    "    if random.random() < (num_blue - 1) / (total_marbles - 1):\n",
    "        blue_count +=1\n",
    "        \n",
    "print(blue_count.iterns)"
   ]
  },
  {
   "cell_type": "code",
   "execution_count": 39,
   "metadata": {
    "collapsed": false
   },
   "outputs": [
    {
     "data": {
      "text/plain": [
       "['__abs__',\n",
       " '__add__',\n",
       " '__and__',\n",
       " '__bool__',\n",
       " '__ceil__',\n",
       " '__class__',\n",
       " '__delattr__',\n",
       " '__dir__',\n",
       " '__divmod__',\n",
       " '__doc__',\n",
       " '__eq__',\n",
       " '__float__',\n",
       " '__floor__',\n",
       " '__floordiv__',\n",
       " '__format__',\n",
       " '__ge__',\n",
       " '__getattribute__',\n",
       " '__getnewargs__',\n",
       " '__gt__',\n",
       " '__hash__',\n",
       " '__index__',\n",
       " '__init__',\n",
       " '__int__',\n",
       " '__invert__',\n",
       " '__le__',\n",
       " '__lshift__',\n",
       " '__lt__',\n",
       " '__mod__',\n",
       " '__mul__',\n",
       " '__ne__',\n",
       " '__neg__',\n",
       " '__new__',\n",
       " '__or__',\n",
       " '__pos__',\n",
       " '__pow__',\n",
       " '__radd__',\n",
       " '__rand__',\n",
       " '__rdivmod__',\n",
       " '__reduce__',\n",
       " '__reduce_ex__',\n",
       " '__repr__',\n",
       " '__rfloordiv__',\n",
       " '__rlshift__',\n",
       " '__rmod__',\n",
       " '__rmul__',\n",
       " '__ror__',\n",
       " '__round__',\n",
       " '__rpow__',\n",
       " '__rrshift__',\n",
       " '__rshift__',\n",
       " '__rsub__',\n",
       " '__rtruediv__',\n",
       " '__rxor__',\n",
       " '__setattr__',\n",
       " '__sizeof__',\n",
       " '__str__',\n",
       " '__sub__',\n",
       " '__subclasshook__',\n",
       " '__truediv__',\n",
       " '__trunc__',\n",
       " '__xor__',\n",
       " 'bit_length',\n",
       " 'conjugate',\n",
       " 'denominator',\n",
       " 'from_bytes',\n",
       " 'imag',\n",
       " 'numerator',\n",
       " 'real',\n",
       " 'to_bytes']"
      ]
     },
     "execution_count": 39,
     "metadata": {},
     "output_type": "execute_result"
    }
   ],
   "source": [
    "dir(int)"
   ]
  },
  {
   "cell_type": "code",
   "execution_count": 46,
   "metadata": {
    "collapsed": false
   },
   "outputs": [
    {
     "name": "stdout",
     "output_type": "stream",
     "text": [
      "0\n"
     ]
    }
   ],
   "source": [
    "iterns = 100000\n",
    "num_blue = 4\n",
    "num_red = 8\n",
    "total_marbles = 12\n",
    "blue_count = 0\n",
    "\n",
    "if random.random() < num_blue / total_marbles: \n",
    "    if random.random() < (num_blue - 1) / (total_marbles - 1):\n",
    "        blue_count += 1\n",
    "        \n",
    "print(blue_count)"
   ]
  },
  {
   "cell_type": "code",
   "execution_count": 47,
   "metadata": {
    "collapsed": false
   },
   "outputs": [
    {
     "name": "stdout",
     "output_type": "stream",
     "text": [
      "9122\n"
     ]
    }
   ],
   "source": [
    "iterns = 100000\n",
    "num_blue = 4\n",
    "num_red = 8\n",
    "total_marbles = 12\n",
    "blue_count = 0\n",
    "\n",
    "for i in range(iterns):\n",
    "    if random.random() < num_blue / total_marbles: \n",
    "        if random.random() < (num_blue - 1) / (total_marbles - 1):\n",
    "            blue_count += 1\n",
    "        \n",
    "print(blue_count)"
   ]
  },
  {
   "cell_type": "code",
   "execution_count": 49,
   "metadata": {
    "collapsed": false
   },
   "outputs": [
    {
     "data": {
      "text/plain": [
       "9090.909090909092"
      ]
     },
     "execution_count": 49,
     "metadata": {},
     "output_type": "execute_result"
    }
   ],
   "source": [
    "(4/12 *3/11) * 100000"
   ]
  },
  {
   "cell_type": "code",
   "execution_count": 51,
   "metadata": {
    "collapsed": false
   },
   "outputs": [
    {
     "name": "stdout",
     "output_type": "stream",
     "text": [
      " Volume in drive C has no label.\n",
      " Volume Serial Number is 72AC-6DCC\n",
      "\n",
      " Directory of C:\\Users\\t00183932\n",
      "\n",
      "08/02/2017  15:30    <DIR>          .\n",
      "08/02/2017  15:30    <DIR>          ..\n",
      "30/09/2016  15:03    <DIR>          .android\n",
      "30/09/2016  15:03    <DIR>          .aws\n",
      "08/02/2017  14:45               541 .bash_history\n",
      "30/09/2016  15:03    <DIR>          .eclipse\n",
      "08/02/2017  15:30    <DIR>          .ipynb_checkpoints\n",
      "08/02/2017  14:08    <DIR>          .ipython\n",
      "30/09/2016  15:03    <DIR>          .jssc\n",
      "30/09/2016  15:03    <DIR>          .oracle_jre_usage\n",
      "30/05/2014  16:05               244 .packettracer\n",
      "10/09/2014  16:04    <DIR>          .spss\n",
      "30/09/2016  15:03    <DIR>          .VirtualBox\n",
      "08/02/2017  14:06                 0 .XDNGSERVICE.SingleInstanceLock\n",
      "08/02/2017  14:35                 0 afile.txt\n",
      "30/09/2016  15:04    <DIR>          AppData\n",
      "30/09/2016  15:04    <DIR>          Autodesk\n",
      "16/11/2015  13:30         3,342,336 AzureStorageEmulatorDb42.mdf\n",
      "16/11/2015  13:30           851,968 AzureStorageEmulatorDb42_log.ldf\n",
      "26/09/2016  18:03         8,388,608 AzureStorageEmulatorDb45.mdf\n",
      "26/09/2016  18:03         8,388,608 AzureStorageEmulatorDb45_log.ldf\n",
      "30/09/2016  15:04    <DIR>          Cisco Packet Tracer 5.3.3\n",
      "30/09/2016  15:04    <DIR>          Contacts\n",
      "08/02/2017  14:14    <DIR>          Desktop\n",
      "12/05/2014  09:25         3,211,264 DevelopmentStorageDb22.mdf\n",
      "12/05/2014  09:25           802,816 DevelopmentStorageDb22_log.ldf\n",
      "08/02/2017  14:06    <DIR>          Documents\n",
      "30/09/2016  15:17    <DIR>          Downloads\n",
      "30/09/2016  15:04    <DIR>          eclipse\n",
      "08/02/2017  14:06    <DIR>          Favorites\n",
      "30/09/2016  15:04    <DIR>          IdeaProjects\n",
      "19/01/2015  12:26             8,571 JsDocComments.js\n",
      "30/09/2016  15:04    <DIR>          Links\n",
      "08/02/2017  15:30            14,178 MarbleProblem.ipynb\n",
      "19/01/2015  12:26            17,812 Modern.Intellisense.js\n",
      "08/02/2017  14:37    <DIR>          mp20\n",
      "30/09/2016  15:04    <DIR>          Music\n",
      "30/09/2016  15:04    <DIR>          Oracle\n",
      "30/09/2016  15:04    <DIR>          Pictures\n",
      "30/09/2016  15:04    <DIR>          Podcasts\n",
      "30/09/2016  15:04    <DIR>          Saved Games\n",
      "30/09/2016  15:04    <DIR>          Searches\n",
      "30/09/2016  15:04    <DIR>          Videos\n",
      "12/05/2014  09:25         3,211,264 WAStorageEmulatorDb31.mdf\n",
      "12/05/2014  09:25           802,816 WAStorageEmulatorDb31_log.ldf\n",
      "10/09/2014  14:55         3,211,264 WAStorageEmulatorDb33.mdf\n",
      "10/09/2014  14:55           802,816 WAStorageEmulatorDb33_log.ldf\n",
      "30/09/2016  15:04    <DIR>          workspace\n",
      "              17 File(s)     33,055,106 bytes\n",
      "              31 Dir(s)  470,225,805,312 bytes free\n"
     ]
    }
   ],
   "source": []
  },
  {
   "cell_type": "code",
   "execution_count": null,
   "metadata": {
    "collapsed": true
   },
   "outputs": [],
   "source": []
  },
  {
   "cell_type": "code",
   "execution_count": null,
   "metadata": {
    "collapsed": true
   },
   "outputs": [],
   "source": []
  },
  {
   "cell_type": "code",
   "execution_count": null,
   "metadata": {
    "collapsed": true
   },
   "outputs": [],
   "source": []
  },
  {
   "cell_type": "code",
   "execution_count": null,
   "metadata": {
    "collapsed": true
   },
   "outputs": [],
   "source": []
  },
  {
   "cell_type": "code",
   "execution_count": null,
   "metadata": {
    "collapsed": true
   },
   "outputs": [],
   "source": []
  },
  {
   "cell_type": "code",
   "execution_count": null,
   "metadata": {
    "collapsed": true
   },
   "outputs": [],
   "source": []
  },
  {
   "cell_type": "code",
   "execution_count": null,
   "metadata": {
    "collapsed": true
   },
   "outputs": [],
   "source": []
  },
  {
   "cell_type": "code",
   "execution_count": null,
   "metadata": {
    "collapsed": true
   },
   "outputs": [],
   "source": []
  },
  {
   "cell_type": "code",
   "execution_count": null,
   "metadata": {
    "collapsed": true
   },
   "outputs": [],
   "source": []
  },
  {
   "cell_type": "code",
   "execution_count": null,
   "metadata": {
    "collapsed": true
   },
   "outputs": [],
   "source": []
  },
  {
   "cell_type": "code",
   "execution_count": null,
   "metadata": {
    "collapsed": true
   },
   "outputs": [],
   "source": []
  },
  {
   "cell_type": "code",
   "execution_count": null,
   "metadata": {
    "collapsed": true
   },
   "outputs": [],
   "source": []
  },
  {
   "cell_type": "code",
   "execution_count": null,
   "metadata": {
    "collapsed": true
   },
   "outputs": [],
   "source": []
  },
  {
   "cell_type": "code",
   "execution_count": null,
   "metadata": {
    "collapsed": true
   },
   "outputs": [],
   "source": []
  },
  {
   "cell_type": "code",
   "execution_count": null,
   "metadata": {
    "collapsed": true
   },
   "outputs": [],
   "source": []
  },
  {
   "cell_type": "code",
   "execution_count": null,
   "metadata": {
    "collapsed": true
   },
   "outputs": [],
   "source": []
  },
  {
   "cell_type": "code",
   "execution_count": null,
   "metadata": {
    "collapsed": true
   },
   "outputs": [],
   "source": []
  },
  {
   "cell_type": "code",
   "execution_count": null,
   "metadata": {
    "collapsed": true
   },
   "outputs": [],
   "source": []
  },
  {
   "cell_type": "code",
   "execution_count": null,
   "metadata": {
    "collapsed": true
   },
   "outputs": [],
   "source": []
  },
  {
   "cell_type": "code",
   "execution_count": null,
   "metadata": {
    "collapsed": true
   },
   "outputs": [],
   "source": []
  },
  {
   "cell_type": "code",
   "execution_count": null,
   "metadata": {
    "collapsed": true
   },
   "outputs": [],
   "source": []
  },
  {
   "cell_type": "code",
   "execution_count": null,
   "metadata": {
    "collapsed": true
   },
   "outputs": [],
   "source": []
  },
  {
   "cell_type": "code",
   "execution_count": null,
   "metadata": {
    "collapsed": true
   },
   "outputs": [],
   "source": []
  },
  {
   "cell_type": "code",
   "execution_count": null,
   "metadata": {
    "collapsed": true
   },
   "outputs": [],
   "source": []
  },
  {
   "cell_type": "code",
   "execution_count": null,
   "metadata": {
    "collapsed": true
   },
   "outputs": [],
   "source": []
  }
 ],
 "metadata": {
  "kernelspec": {
   "display_name": "Python 3",
   "language": "python",
   "name": "python3"
  },
  "language_info": {
   "codemirror_mode": {
    "name": "ipython",
    "version": 3
   },
   "file_extension": ".py",
   "mimetype": "text/x-python",
   "name": "python",
   "nbconvert_exporter": "python",
   "pygments_lexer": "ipython3",
   "version": "3.5.1"
  }
 },
 "nbformat": 4,
 "nbformat_minor": 0
}
